{
 "cells": [
  {
   "cell_type": "code",
   "execution_count": 10,
   "metadata": {},
   "outputs": [],
   "source": [
    "library(\"XenofilteR\")"
   ]
  },
  {
   "cell_type": "code",
   "execution_count": 17,
   "metadata": {},
   "outputs": [],
   "source": [
    "bp.param <- SnowParam(workers = 10, type = \"SOCK\")"
   ]
  },
  {
   "cell_type": "code",
   "execution_count": 2,
   "metadata": {},
   "outputs": [],
   "source": [
    "sample.list <- read.csv('sample.list', header = FALSE)"
   ]
  },
  {
   "cell_type": "code",
   "execution_count": 3,
   "metadata": {},
   "outputs": [
    {
     "data": {
      "text/html": [
       "<table>\n",
       "<caption>A data.frame: 16 × 2</caption>\n",
       "<thead>\n",
       "\t<tr><th scope=col>V1</th><th scope=col>V2</th></tr>\n",
       "\t<tr><th scope=col>&lt;chr&gt;</th><th scope=col>&lt;chr&gt;</th></tr>\n",
       "</thead>\n",
       "<tbody>\n",
       "\t<tr><td>./2102/1.human.srt.bam </td><td>./2102/1.srt.bam </td></tr>\n",
       "\t<tr><td>./2102/2.human.srt.bam </td><td>./2102/2.srt.bam </td></tr>\n",
       "\t<tr><td>./2102/3.human.srt.bam </td><td>./2102/3.srt.bam </td></tr>\n",
       "\t<tr><td>./2102/4.human.srt.bam </td><td>./2102/4.srt.bam </td></tr>\n",
       "\t<tr><td>./2102/5.human.srt.bam </td><td>./2102/5.srt.bam </td></tr>\n",
       "\t<tr><td>./2102/6.human.srt.bam </td><td>./2102/6.srt.bam </td></tr>\n",
       "\t<tr><td>./2102/7.human.srt.bam </td><td>./2102/7.srt.bam </td></tr>\n",
       "\t<tr><td>./2102/8.human.srt.bam </td><td>./2102/8.srt.bam </td></tr>\n",
       "\t<tr><td>./2102/9.human.srt.bam </td><td>./2102/9.srt.bam </td></tr>\n",
       "\t<tr><td>./2102/10.human.srt.bam</td><td>./2102/10.srt.bam</td></tr>\n",
       "\t<tr><td>./2102/11.human.srt.bam</td><td>./2102/11.srt.bam</td></tr>\n",
       "\t<tr><td>./2102/12.human.srt.bam</td><td>./2102/12.srt.bam</td></tr>\n",
       "\t<tr><td>./2102/13.human.srt.bam</td><td>./2102/13.srt.bam</td></tr>\n",
       "\t<tr><td>./2102/14.human.srt.bam</td><td>./2102/14.srt.bam</td></tr>\n",
       "\t<tr><td>./2102/15.human.srt.bam</td><td>./2102/15.srt.bam</td></tr>\n",
       "\t<tr><td>./2102/16.human.srt.bam</td><td>./2102/16.srt.bam</td></tr>\n",
       "</tbody>\n",
       "</table>\n"
      ],
      "text/latex": [
       "A data.frame: 16 × 2\n",
       "\\begin{tabular}{ll}\n",
       " V1 & V2\\\\\n",
       " <chr> & <chr>\\\\\n",
       "\\hline\n",
       "\t ./2102/1.human.srt.bam  & ./2102/1.srt.bam \\\\\n",
       "\t ./2102/2.human.srt.bam  & ./2102/2.srt.bam \\\\\n",
       "\t ./2102/3.human.srt.bam  & ./2102/3.srt.bam \\\\\n",
       "\t ./2102/4.human.srt.bam  & ./2102/4.srt.bam \\\\\n",
       "\t ./2102/5.human.srt.bam  & ./2102/5.srt.bam \\\\\n",
       "\t ./2102/6.human.srt.bam  & ./2102/6.srt.bam \\\\\n",
       "\t ./2102/7.human.srt.bam  & ./2102/7.srt.bam \\\\\n",
       "\t ./2102/8.human.srt.bam  & ./2102/8.srt.bam \\\\\n",
       "\t ./2102/9.human.srt.bam  & ./2102/9.srt.bam \\\\\n",
       "\t ./2102/10.human.srt.bam & ./2102/10.srt.bam\\\\\n",
       "\t ./2102/11.human.srt.bam & ./2102/11.srt.bam\\\\\n",
       "\t ./2102/12.human.srt.bam & ./2102/12.srt.bam\\\\\n",
       "\t ./2102/13.human.srt.bam & ./2102/13.srt.bam\\\\\n",
       "\t ./2102/14.human.srt.bam & ./2102/14.srt.bam\\\\\n",
       "\t ./2102/15.human.srt.bam & ./2102/15.srt.bam\\\\\n",
       "\t ./2102/16.human.srt.bam & ./2102/16.srt.bam\\\\\n",
       "\\end{tabular}\n"
      ],
      "text/markdown": [
       "\n",
       "A data.frame: 16 × 2\n",
       "\n",
       "| V1 &lt;chr&gt; | V2 &lt;chr&gt; |\n",
       "|---|---|\n",
       "| ./2102/1.human.srt.bam  | ./2102/1.srt.bam  |\n",
       "| ./2102/2.human.srt.bam  | ./2102/2.srt.bam  |\n",
       "| ./2102/3.human.srt.bam  | ./2102/3.srt.bam  |\n",
       "| ./2102/4.human.srt.bam  | ./2102/4.srt.bam  |\n",
       "| ./2102/5.human.srt.bam  | ./2102/5.srt.bam  |\n",
       "| ./2102/6.human.srt.bam  | ./2102/6.srt.bam  |\n",
       "| ./2102/7.human.srt.bam  | ./2102/7.srt.bam  |\n",
       "| ./2102/8.human.srt.bam  | ./2102/8.srt.bam  |\n",
       "| ./2102/9.human.srt.bam  | ./2102/9.srt.bam  |\n",
       "| ./2102/10.human.srt.bam | ./2102/10.srt.bam |\n",
       "| ./2102/11.human.srt.bam | ./2102/11.srt.bam |\n",
       "| ./2102/12.human.srt.bam | ./2102/12.srt.bam |\n",
       "| ./2102/13.human.srt.bam | ./2102/13.srt.bam |\n",
       "| ./2102/14.human.srt.bam | ./2102/14.srt.bam |\n",
       "| ./2102/15.human.srt.bam | ./2102/15.srt.bam |\n",
       "| ./2102/16.human.srt.bam | ./2102/16.srt.bam |\n",
       "\n"
      ],
      "text/plain": [
       "   V1                      V2               \n",
       "1  ./2102/1.human.srt.bam  ./2102/1.srt.bam \n",
       "2  ./2102/2.human.srt.bam  ./2102/2.srt.bam \n",
       "3  ./2102/3.human.srt.bam  ./2102/3.srt.bam \n",
       "4  ./2102/4.human.srt.bam  ./2102/4.srt.bam \n",
       "5  ./2102/5.human.srt.bam  ./2102/5.srt.bam \n",
       "6  ./2102/6.human.srt.bam  ./2102/6.srt.bam \n",
       "7  ./2102/7.human.srt.bam  ./2102/7.srt.bam \n",
       "8  ./2102/8.human.srt.bam  ./2102/8.srt.bam \n",
       "9  ./2102/9.human.srt.bam  ./2102/9.srt.bam \n",
       "10 ./2102/10.human.srt.bam ./2102/10.srt.bam\n",
       "11 ./2102/11.human.srt.bam ./2102/11.srt.bam\n",
       "12 ./2102/12.human.srt.bam ./2102/12.srt.bam\n",
       "13 ./2102/13.human.srt.bam ./2102/13.srt.bam\n",
       "14 ./2102/14.human.srt.bam ./2102/14.srt.bam\n",
       "15 ./2102/15.human.srt.bam ./2102/15.srt.bam\n",
       "16 ./2102/16.human.srt.bam ./2102/16.srt.bam"
      ]
     },
     "metadata": {},
     "output_type": "display_data"
    }
   ],
   "source": [
    "sample.list"
   ]
  },
  {
   "cell_type": "code",
   "execution_count": 4,
   "metadata": {},
   "outputs": [],
   "source": [
    "output.names <- gsub('.human.srt.bam', '.processed.bam', sample.list$'V1')"
   ]
  },
  {
   "cell_type": "code",
   "execution_count": 5,
   "metadata": {},
   "outputs": [],
   "source": [
    "output.names <- gsub('./2102/', '', output.names)"
   ]
  },
  {
   "cell_type": "code",
   "execution_count": 6,
   "metadata": {},
   "outputs": [
    {
     "data": {
      "text/html": [
       "<style>\n",
       ".list-inline {list-style: none; margin:0; padding: 0}\n",
       ".list-inline>li {display: inline-block}\n",
       ".list-inline>li:not(:last-child)::after {content: \"\\00b7\"; padding: 0 .5ex}\n",
       "</style>\n",
       "<ol class=list-inline><li>'1.processed.bam'</li><li>'2.processed.bam'</li><li>'3.processed.bam'</li><li>'4.processed.bam'</li><li>'5.processed.bam'</li><li>'6.processed.bam'</li><li>'7.processed.bam'</li><li>'8.processed.bam'</li><li>'9.processed.bam'</li><li>'10.processed.bam'</li><li>'11.processed.bam'</li><li>'12.processed.bam'</li><li>'13.processed.bam'</li><li>'14.processed.bam'</li><li>'15.processed.bam'</li><li>'16.processed.bam'</li></ol>\n"
      ],
      "text/latex": [
       "\\begin{enumerate*}\n",
       "\\item '1.processed.bam'\n",
       "\\item '2.processed.bam'\n",
       "\\item '3.processed.bam'\n",
       "\\item '4.processed.bam'\n",
       "\\item '5.processed.bam'\n",
       "\\item '6.processed.bam'\n",
       "\\item '7.processed.bam'\n",
       "\\item '8.processed.bam'\n",
       "\\item '9.processed.bam'\n",
       "\\item '10.processed.bam'\n",
       "\\item '11.processed.bam'\n",
       "\\item '12.processed.bam'\n",
       "\\item '13.processed.bam'\n",
       "\\item '14.processed.bam'\n",
       "\\item '15.processed.bam'\n",
       "\\item '16.processed.bam'\n",
       "\\end{enumerate*}\n"
      ],
      "text/markdown": [
       "1. '1.processed.bam'\n",
       "2. '2.processed.bam'\n",
       "3. '3.processed.bam'\n",
       "4. '4.processed.bam'\n",
       "5. '5.processed.bam'\n",
       "6. '6.processed.bam'\n",
       "7. '7.processed.bam'\n",
       "8. '8.processed.bam'\n",
       "9. '9.processed.bam'\n",
       "10. '10.processed.bam'\n",
       "11. '11.processed.bam'\n",
       "12. '12.processed.bam'\n",
       "13. '13.processed.bam'\n",
       "14. '14.processed.bam'\n",
       "15. '15.processed.bam'\n",
       "16. '16.processed.bam'\n",
       "\n",
       "\n"
      ],
      "text/plain": [
       " [1] \"1.processed.bam\"  \"2.processed.bam\"  \"3.processed.bam\"  \"4.processed.bam\" \n",
       " [5] \"5.processed.bam\"  \"6.processed.bam\"  \"7.processed.bam\"  \"8.processed.bam\" \n",
       " [9] \"9.processed.bam\"  \"10.processed.bam\" \"11.processed.bam\" \"12.processed.bam\"\n",
       "[13] \"13.processed.bam\" \"14.processed.bam\" \"15.processed.bam\" \"16.processed.bam\""
      ]
     },
     "metadata": {},
     "output_type": "display_data"
    }
   ],
   "source": [
    "output.names"
   ]
  },
  {
   "cell_type": "markdown",
   "metadata": {},
   "source": [
    "- The command below will make a folder called 'Filtered_bams' and put the filtered and aligned reads in those bam files with the names denoted by 'output.names'"
   ]
  },
  {
   "cell_type": "code",
   "execution_count": null,
   "metadata": {},
   "outputs": [],
   "source": [
    "XenofilteR(sample.list, destination.folder = \"./\", bp.param = bp.param, output.names,\n",
    "           MM_threshold = 12, Unmapped_penalty = 4)"
   ]
  }
 ],
 "metadata": {
  "kernelspec": {
   "display_name": "R",
   "language": "R",
   "name": "ir"
  },
  "language_info": {
   "codemirror_mode": "r",
   "file_extension": ".r",
   "mimetype": "text/x-r-source",
   "name": "R",
   "pygments_lexer": "r",
   "version": "4.0.3"
  }
 },
 "nbformat": 4,
 "nbformat_minor": 4
}
